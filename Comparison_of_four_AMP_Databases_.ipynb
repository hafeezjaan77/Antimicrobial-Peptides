{
  "nbformat": 4,
  "nbformat_minor": 0,
  "metadata": {
    "colab": {
      "name": "Comparison of four AMP Databases .ipynb",
      "private_outputs": true,
      "provenance": [],
      "authorship_tag": "ABX9TyPqAzH7wiGO/A0BNCK5rgYw",
      "include_colab_link": true
    },
    "kernelspec": {
      "name": "python3",
      "display_name": "Python 3"
    },
    "language_info": {
      "name": "python"
    }
  },
  "cells": [
    {
      "cell_type": "markdown",
      "metadata": {
        "id": "view-in-github",
        "colab_type": "text"
      },
      "source": [
        "<a href=\"https://colab.research.google.com/github/hafeezjaan77/Antimicrobial-Peptides/blob/main/Comparison_of_four_AMP_Databases_.ipynb\" target=\"_parent\"><img src=\"https://colab.research.google.com/assets/colab-badge.svg\" alt=\"Open In Colab\"/></a>"
      ]
    },
    {
      "cell_type": "markdown",
      "metadata": {
        "id": "2KrP6OUAxcFX"
      },
      "source": [
        "Comparison of AMP Databases"
      ]
    },
    {
      "cell_type": "code",
      "metadata": {
        "id": "TOdUlM6R8WuQ"
      },
      "source": [
        "! pip install panda "
      ],
      "execution_count": null,
      "outputs": []
    },
    {
      "cell_type": "code",
      "metadata": {
        "id": "lZZCTWuV8koC"
      },
      "source": [
        "import pandas as pd\n",
        "import numpy as np\n",
        "import matplotlib.pyplot as plt\n",
        "\n",
        "data=pd.read_excel(\"/content/Comparison of Four AMP Databases.xlsx\")\n",
        "CAMP_seq=data.iloc[0:4433,0]\n",
        "DBAASP_seq=data.iloc[0:13424,2]\n",
        "DRAMP_seq=data.iloc[0:19496,4]\n",
        "APD_seq=data.iloc[0:3194,6]\n",
        "print('All_APD:{};'.format(len(APD_seq)),'All_CAMP:{};'.format(len(CAMP_seq)),'All_DBAASP:{};'.format(len(DBAASP_seq)),'All_DRAMP:{};'.format(len(DRAMP_seq)))"
      ],
      "execution_count": null,
      "outputs": []
    },
    {
      "cell_type": "code",
      "metadata": {
        "id": "1psJBSFDhFlI"
      },
      "source": [
        "intersection_all = list(set(APD_seq).intersection(CAMP_seq,DBAASP_seq,DRAMP_seq))\n",
        "intersection_APD_CAMP_DBAASP = list(set(APD_seq).intersection(CAMP_seq,DBAASP_seq))\n",
        "intersection_APD_CAMP_DRAMP= list(set(APD_seq).intersection(CAMP_seq,DRAMP_seq))\n",
        "intersection_APD_DBAASP_DRAMP = list(set(APD_seq).intersection(DBAASP_seq,DRAMP_seq))\n",
        "intersection_CAMP_DBAASP_DRAMP = list(set(CAMP_seq).intersection(DBAASP_seq,DRAMP_seq))\n",
        "intersection_APD_CAMP=list(set(APD_seq).intersection(CAMP_seq))\n",
        "intersection_APD_DBAASP=list(set(APD_seq).intersection(DBAASP_seq))\n",
        "intersection_APD_DRAMP=list(set(APD_seq).intersection(DRAMP_seq))\n",
        "intersection_CAMP_DBAASP=list(set(CAMP_seq).intersection(DBAASP_seq))\n",
        "intersection_CAMP_DRAMP=list(set(CAMP_seq).intersection(DRAMP_seq))\n",
        "intersection_DBAASP_DRAMP=list(set(DBAASP_seq).intersection(DRAMP_seq))\n",
        "union = list(set(APD_seq).union(CAMP_seq,DBAASP_seq,DRAMP_seq))\n",
        "print('PART0 APD_CAMP_DBAASP -- >',len(intersection_all))\n",
        "print('PART1 APD_CAMP_DBAASP -- >',len(intersection_APD_CAMP_DBAASP)-len(intersection_all))\n",
        "print('PART2 APD_CAMP_DRAMP -- >',len(intersection_APD_CAMP_DRAMP)-len(intersection_all))\n",
        "print('PART3 APD_DBAASP_DRAMP -- >',len(intersection_APD_DBAASP_DRAMP)-len(intersection_all))\n",
        "print('PART4 CAMP_DBAASP_DRAMP -- >',len(intersection_CAMP_DBAASP_DRAMP)-len(intersection_all))\n",
        "print('PART5 APD_DRAMP -- >',len(intersection_APD_DRAMP)-1136-448-259)\n",
        "print('PART6 CAMP_DBAASP -- >', len(intersection_CAMP_DBAASP)-1136-414-110 )\n",
        "print('PART7 APD_DBAASP -- >', len(intersection_APD_DBAASP)-1136-110-259 )\n",
        "print('PART8 APD_CAMP -- >', len(intersection_APD_CAMP)-1136-110-448)\n",
        "print('PART9 CAMP_DRAMP -- >', len(intersection_CAMP_DRAMP)-1136-448-414)\n",
        "print('PART10 DBAASP_DRAMP -- >', len(intersection_DBAASP_DRAMP)-1136-414-259)\n",
        "print('APD only -->', len(APD_seq)-409-110-103-448-1136-329-259, 'APD percentage -- >{:.1%} '.format((len(APD_seq)-409-110-103-448-1136-329-259)/len(APD_seq)))\n",
        "print('CAMP only -->', len(CAMP_seq)-1813-103-448-110-1136-57-414,'CAMP percentage -- >{:.1%} '.format((len(CAMP_seq)-1813-103-448-110-1136-57-414)/len(CAMP_seq)))\n",
        "print('DBAASP only -->', len(DBAASP_seq)-409-110-1136-57-414-259-1552,'DBAASP percentage -- >{:.1%} '.format((len(DBAASP_seq)-409-110-1136-57-414-259-1552)/len(DBAASP_seq)))\n",
        "print('DRAMP only -->',len(DRAMP_seq)-1813-448-329-1136-414-259-1552,'DRAMP percentage -- >{:.1%} '.format((len(DRAMP_seq)-1813-448-329-1136-414-259-1552)/len(DRAMP_seq)))"
      ],
      "execution_count": null,
      "outputs": []
    }
  ]
}